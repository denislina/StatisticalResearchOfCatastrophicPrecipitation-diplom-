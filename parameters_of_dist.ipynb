{
 "cells": [
  {
   "cell_type": "code",
   "execution_count": 8,
   "metadata": {
    "collapsed": true
   },
   "outputs": [],
   "source": [
    "import pandas as pd\n",
    "import numpy as np\n",
    "import matplotlib.pyplot as plt\n",
    "import csv\n",
    "from mpl_toolkits.basemap import Basemap\n",
    "import matplotlib.pyplot as plt\n",
    "from mpl_toolkits.mplot3d import Axes3D\n",
    "from matplotlib.collections import PolyCollection\n",
    "from matplotlib.colors import colorConverter\n",
    "import os"
   ]
  },
  {
   "cell_type": "code",
   "execution_count": 9,
   "metadata": {
    "collapsed": true
   },
   "outputs": [],
   "source": [
    "#Data = pd.read_csv('all_parameters.csv', sep=';')\n",
    "path_csv = './all precipitation from meteoRu/csv/'"
   ]
  },
  {
   "cell_type": "code",
   "execution_count": 10,
   "metadata": {
    "collapsed": true
   },
   "outputs": [],
   "source": [
    "import scipy.stats as ss\n",
    "import scipy.optimize as so\n",
    "def likelihood_f(P, x, neg=-1):\n",
    "    n=np.round(P[0]) #by definition, it should be an integer \n",
    "    p=P[1]\n",
    "    loc = 0\n",
    "    return neg*(np.log(ss.nbinom.pmf(x, n, p, loc))).sum()"
   ]
  },
  {
   "cell_type": "code",
   "execution_count": 11,
   "metadata": {
    "collapsed": false
   },
   "outputs": [
    {
     "data": {
      "text/plain": [
       "(599, 13)"
      ]
     },
     "execution_count": 11,
     "metadata": {},
     "output_type": "execute_result"
    }
   ],
   "source": [
    "res = pd.read_csv('all_parameters_new.csv', sep = ';')\n",
    "res.shape"
   ]
  },
  {
   "cell_type": "code",
   "execution_count": 12,
   "metadata": {
    "collapsed": false
   },
   "outputs": [],
   "source": [
    "res = pd.read_csv('all_parameters_new.csv', sep = ';')\n",
    "l = len(res['R'])\n",
    "\n",
    "r_precipitation_old = [float(str(i).replace(',', '.')) for i in res['R']]\n",
    "p_precipitation_old = [float(str(i).replace(',', '.')) for i in res['P']]\n",
    "r_dry_old = [float(str(i).replace(',', '.')) for i in res['R.1']]\n",
    "p_dry_old = [float(str(i).replace(',', '.')) for i in res['P.1']]"
   ]
  },
  {
   "cell_type": "code",
   "execution_count": 13,
   "metadata": {
    "collapsed": false
   },
   "outputs": [
    {
     "data": {
      "text/plain": [
       "599"
      ]
     },
     "execution_count": 13,
     "metadata": {},
     "output_type": "execute_result"
    }
   ],
   "source": [
    "len(res['R'])"
   ]
  },
  {
   "cell_type": "code",
   "execution_count": 28,
   "metadata": {
    "collapsed": false
   },
   "outputs": [],
   "source": [
    "import tqdm\n",
    "from IPython.display import clear_output"
   ]
  },
  {
   "cell_type": "code",
   "execution_count": 51,
   "metadata": {
    "collapsed": false
   },
   "outputs": [
    {
     "data": {
      "text/plain": [
       "'20087'"
      ]
     },
     "execution_count": 51,
     "metadata": {},
     "output_type": "execute_result"
    }
   ],
   "source": [
    "filename = '20087.csv'\n",
    "filename.split('.')[0]"
   ]
  },
  {
   "cell_type": "code",
   "execution_count": 52,
   "metadata": {
    "collapsed": false,
    "scrolled": true
   },
   "outputs": [
    {
     "name": "stderr",
     "output_type": "stream",
     "text": [
      "\n",
      "\n",
      "\n",
      "\n",
      "\r",
      "600it [23:36,  1.76s/it]"
     ]
    },
    {
     "name": "stdout",
     "output_type": "stream",
     "text": [
      "CPU times: user 22min 10s, sys: 38.2 s, total: 22min 48s\n",
      "Wall time: 23min 36s\n"
     ]
    },
    {
     "name": "stderr",
     "output_type": "stream",
     "text": [
      "\u001b[A\u001b[A\u001b[A\u001b[A\n",
      "\n",
      "\n",
      "\n",
      "\u001b[A\u001b[A\u001b[A\u001b[A"
     ]
    }
   ],
   "source": [
    "%%time\n",
    "#ind = 3\n",
    "r_precipitation_new = []\n",
    "p_precipitation_new = []\n",
    "delta_precipitation = []\n",
    "r_dry_new = []\n",
    "p_dry_new = []\n",
    "delta_dry = []\n",
    "name = []\n",
    "for ind1, filename in tqdm.tqdm(enumerate(os.listdir(path_csv))):\n",
    "#     if ind % 50 == 0:\n",
    "#         print(ind)\n",
    "    #filename = '20087.csv'\n",
    "    name.append(filename.split('.')[0])\n",
    "    data = pd.read_csv(path_csv + filename, sep = ';', header = None)\n",
    "    precipitation = data[11]\n",
    "    if (ind1 < 599):\n",
    "        ind = ind1\n",
    "    else: ind = 598\n",
    "    #precipitation\n",
    "    length_of_precipitation = [];\n",
    "    l = 0.;\n",
    "    for i  in range(1, len(precipitation)):\n",
    "        if precipitation[i] <= 0.0:\n",
    "            if l > 0:\n",
    "                length_of_precipitation.append(l - 1)\n",
    "            l = 0;\n",
    "        else:\n",
    "            l += 1;\n",
    "\n",
    "    X = length_of_precipitation;\n",
    "    r = r_precipitation_old[ind]\n",
    "    p = p_precipitation_old[ind]\n",
    "    old_res = likelihood_f([r, p], X)\n",
    "    new_res = so.minimize(likelihood_f, [r,p],args = (X, -1), method='Nelder-Mead', options={'xtol': 1e-9}).fun\n",
    "    r, p = so.minimize(likelihood_f, [r,p],args = (X, -1), method='Nelder-Mead', options={'xtol': 1e-9}).x\n",
    "    delta_precipitation.append(old_res - new_res)\n",
    "    r_precipitation_new.append(r)\n",
    "    p_precipitation_new.append(p)\n",
    "\n",
    "    #dry_periods\n",
    "    length_of_precipitation = [];\n",
    "    l = 0.;\n",
    "    for i  in range(1, len(precipitation)):\n",
    "        if precipitation[i] > 0.0:\n",
    "            if l > 0:\n",
    "                length_of_precipitation.append(l - 1)\n",
    "            l = 0;\n",
    "        else:\n",
    "            l += 1;\n",
    "\n",
    "    X = length_of_precipitation;\n",
    "    r = r_dry_old[ind]\n",
    "    p = p_dry_old[ind]\n",
    "    old_res = likelihood_f([r, p], X)\n",
    "    new_res = so.minimize(likelihood_f, [r,p],args = (X, -1), method='Nelder-Mead', options={'xtol': 1e-9}).fun\n",
    "    r, p = so.minimize(likelihood_f, [r,p],args = (X, -1), method='Nelder-Mead', options={'xtol': 1e-9}).x\n",
    "    delta_dry.append(old_res - new_res)\n",
    "    r_dry_new.append(r)\n",
    "    p_dry_new.append(p)\n",
    "    clear_output(True)"
   ]
  },
  {
   "cell_type": "code",
   "execution_count": 22,
   "metadata": {
    "collapsed": false
   },
   "outputs": [
    {
     "name": "stdout",
     "output_type": "stream",
     "text": [
      "[19.522908154937795, 114.44183403094758, 87.929034188133301, 21.810967299919866, 55.129556439188491, 147.52780145844008, 5.9329261510820288, 138.48789900631164, 116.7196486666453, 52.097560940863332] [208.20992690237381, 465.06454040567405, 383.97204098797556, 287.51772883395097, 376.15876705792562, 395.0226337642107, 219.14897119585839, 496.28549176360684, 486.91158560496115, 405.64993301514005]\n"
     ]
    }
   ],
   "source": [
    "print delta_precipitation, delta_dry"
   ]
  },
  {
   "cell_type": "code",
   "execution_count": 53,
   "metadata": {
    "collapsed": false
   },
   "outputs": [],
   "source": [
    "data = pd.DataFrame({\"station_number\": name, \"R_precipitation\": r_precipitation_new, \"P_precipitation\":p_precipitation_new,\n",
    "                     \"R_dry\": r_dry_new, \"P_dry\":p_dry_new})\n",
    "#data = data.transpose()"
   ]
  },
  {
   "cell_type": "code",
   "execution_count": 54,
   "metadata": {
    "collapsed": false
   },
   "outputs": [],
   "source": [
    "data.to_csv(\"new_parameters_dist.csv\", sep = ';')"
   ]
  },
  {
   "cell_type": "code",
   "execution_count": 55,
   "metadata": {
    "collapsed": false
   },
   "outputs": [
    {
     "data": {
      "image/png": "[encoded data removed]",
      "text/plain": [
       "<matplotlib.figure.Figure at 0x11a29f290>"
      ]
     },
     "metadata": {},
     "output_type": "display_data"
    },
    {
     "data": {
      "image/png": "[encoded data removed]",
      "text/plain": [
       "<matplotlib.figure.Figure at 0x10c7104d0>"
      ]
     },
     "metadata": {},
     "output_type": "display_data"
    }
   ],
   "source": [
    "plt.plot(r_precipitation_old, p_precipitation_old, 'r.')\n",
    "plt.show()\n",
    "plt.plot(r_precipitation_new, p_precipitation_new, 'b.')\n",
    "plt.show()"
   ]
  },
  {
   "cell_type": "code",
   "execution_count": 237,
   "metadata": {
    "collapsed": false
   },
   "outputs": [
    {
     "data": {
      "text/plain": [
       "[0.629831406, 0.542552892, 0.591880559, 0.633720554]"
      ]
     },
     "execution_count": 237,
     "metadata": {},
     "output_type": "execute_result"
    }
   ],
   "source": []
  },
  {
   "cell_type": "raw",
   "metadata": {},
   "source": [
    "filename = '20087.csv'\n",
    "x = pd.read_csv(path_csv + filename, sep = ';', header = None)\n",
    "precipitation = x[11]\n",
    "\n",
    "length_of_precipitation = [];\n",
    "l = 0.;\n",
    "for i  in range(1, len(precipitation)):\n",
    "    if precipitation[i] <= 0.0:\n",
    "        if l > 0:\n",
    "            length_of_precipitation.append(l - 1)\n",
    "        l = 0;\n",
    "    else:\n",
    "        l += 1;\n",
    "\n",
    "L = length_of_precipitation;\n",
    "r = 0.76975\n",
    "p = 0.31\n",
    "old_res = likelihood_f([r, p], X)\n",
    "new_res = so.minimize(likelihood_f, [0.7,0.3],args = (X, -1), method='Nelder-Mead', options={'xtol': 1e-9}).fun\n",
    "r, p = so.minimize(likelihood_f, [0.7,0.3],args = (X, -1), method='Nelder-Mead', options={'xtol': 1e-9}).x\n",
    "#if (old_res - new_res > 0):\n",
    "print old_res, new_res\n",
    "        "
   ]
  },
  {
   "cell_type": "code",
   "execution_count": 28,
   "metadata": {
    "collapsed": false
   },
   "outputs": [],
   "source": []
  },
  {
   "cell_type": "code",
   "execution_count": 30,
   "metadata": {
    "collapsed": false
   },
   "outputs": [],
   "source": []
  },
  {
   "cell_type": "code",
   "execution_count": null,
   "metadata": {
    "collapsed": true
   },
   "outputs": [],
   "source": []
  }
 ],
 "metadata": {
  "anaconda-cloud": {},
  "kernelspec": {
   "display_name": "Python [conda env:py27]",
   "language": "python",
   "name": "conda-env-py27-py"
  },
  "language_info": {
   "codemirror_mode": {
    "name": "ipython",
    "version": 2
   },
   "file_extension": ".py",
   "mimetype": "text/x-python",
   "name": "python",
   "nbconvert_exporter": "python",
   "pygments_lexer": "ipython2",
   "version": "2.7.13"
  }
 },
 "nbformat": 4,
 "nbformat_minor": 1
}
